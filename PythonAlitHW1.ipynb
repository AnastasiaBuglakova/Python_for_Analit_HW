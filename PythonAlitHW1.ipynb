{
 "cells": [
  {
   "cell_type": "markdown",
   "id": "8f6483b3",
   "metadata": {},
   "source": [
    "## Задача 1"
   ]
  },
  {
   "cell_type": "markdown",
   "id": "e3232f3a",
   "metadata": {},
   "source": [
    "На складе лежат разные фрукты в разном количестве.\n",
    "Нужно написать функцию, которая на вход принимает любое количество названий фруктов и их количество, а возвращает общее количество фруктов на складе"
   ]
  },
  {
   "cell_type": "code",
   "execution_count": 16,
   "id": "76c84b8d",
   "metadata": {},
   "outputs": [
    {
     "name": "stdout",
     "output_type": "stream",
     "text": [
      "{'apple': 2, 'pear': 5, 'banana': 8, 'pineapple': 4}\n",
      "19\n"
     ]
    }
   ],
   "source": [
    "def sum_of_(**kwargs):\n",
    "    print(kwargs)\n",
    "    sum = 0\n",
    "    for k,v in kwargs.items():\n",
    "        sum += v\n",
    "    return sum\n",
    "print(sum_of_(apple = 2, pear = 5, banana = 8, pineapple = 4))"
   ]
  },
  {
   "cell_type": "markdown",
   "id": "19838d42",
   "metadata": {},
   "source": [
    "## Задача 2\n",
    "Дан список с затратами на рекламу. Но в данных есть ошибки, некоторые затраты имеют отрицательную величину. Удалите такие значения из списка и посчитайте суммарные затраты. Используйте list comprehensions"
   ]
  },
  {
   "cell_type": "code",
   "execution_count": 17,
   "id": "6e5e4fc3",
   "metadata": {},
   "outputs": [],
   "source": [
    "list_1 = [100, 125, -90, 345, 655, -1, 0, 200]"
   ]
  },
  {
   "cell_type": "code",
   "execution_count": 18,
   "id": "517e50ee",
   "metadata": {},
   "outputs": [
    {
     "data": {
      "text/plain": [
       "[100, 125, 345, 655, 0, 200]"
      ]
     },
     "execution_count": 18,
     "metadata": {},
     "output_type": "execute_result"
    }
   ],
   "source": [
    "list_2 = [list_1[i] for i in range(len(list_1)) if list_1[i] >=0]\n",
    "list_2"
   ]
  },
  {
   "cell_type": "markdown",
   "id": "1d515e29",
   "metadata": {},
   "source": [
    "## Задача 3\n",
    "Даны два списка.\n",
    "Дата покупки"
   ]
  },
  {
   "cell_type": "code",
   "execution_count": 19,
   "id": "2f771c20",
   "metadata": {},
   "outputs": [],
   "source": [
    "date = ['2021-09-14', '2021-12-15', '2021-09-08', '2021-12-05', '2021-10-09', '2021-09-30', '2021-12-22', '2021-11-29', '2021-12-24', '2021-11-26', '2021-10-27', '2021-12-18', '2021-11-09', '2021-11-23', '2021-09-27', '2021-10-02', '2021-12-27', '2021-09-20', '2021-12-13', '2021-11-01', '2021-11-09', '2021-12-06', '2021-12-08', '2021-10-09', '2021-10-31', '2021-09-30', '2021-11-09', '2021-12-13', '2021-10-26', '2021-12-09']"
   ]
  },
  {
   "cell_type": "markdown",
   "id": "1dee9a66",
   "metadata": {},
   "source": [
    "Суммы покупок по датам"
   ]
  },
  {
   "cell_type": "code",
   "execution_count": 20,
   "id": "58d8a509",
   "metadata": {},
   "outputs": [],
   "source": [
    "summ = [1270, 8413, 9028, 3703, 5739, 4095, 295, 4944, 5723, 3701, 4471, 651, 7037, 4274, 6275, 4988, 6930, 2971, 6592, 2004, 2822, 519, 3406, 2732, 5015, 2008, 316, 6333, 5700, 2887]"
   ]
  },
  {
   "cell_type": "markdown",
   "id": "c3310ede",
   "metadata": {},
   "source": [
    "### 4.1 Найдите, какая выручка у компании в ноябре\n",
    "Используйте list comprehensions"
   ]
  },
  {
   "cell_type": "code",
   "execution_count": 37,
   "id": "edad63be",
   "metadata": {},
   "outputs": [
    {
     "name": "stdout",
     "output_type": "stream",
     "text": [
      "{'2021-11-29': 4944, '2021-11-26': 3701, '2021-11-09': 316, '2021-11-23': 4274, '2021-11-01': 2004} 15239\n"
     ]
    }
   ],
   "source": [
    "new_dict = {date[i]:summ[i] for i in range(len(date))if \"-11-\" in date[i]}\n",
    "new_dict\n",
    "nov_sum = 0\n",
    "for v in new_dict.values():\n",
    "        nov_sum += v\n",
    "print(new_dict, nov_sum)"
   ]
  },
  {
   "cell_type": "markdown",
   "id": "93c1a154",
   "metadata": {},
   "source": [
    "### 4.2 Найдите выручку компании в зависимости от месяца\n",
    "Для этого напишите функцию, которая на вход принимает список с датами и список с выручкой, а на выходе словарь, где ключи - это месяцы, а значения - это выручка.\n",
    "Используйте аннотирование типов."
   ]
  },
  {
   "cell_type": "code",
   "execution_count": 36,
   "id": "d60ca774",
   "metadata": {},
   "outputs": [
    {
     "name": "stdout",
     "output_type": "stream",
     "text": [
      "{'09': 21552, '12': 38860, '10': 22906, '11': 15239}\n"
     ]
    }
   ],
   "source": [
    "def revenue_monthly(dates: list, summes: list) -> dict:\n",
    "    dict_= dict(zip(dates, summes))\n",
    "    dict_monthly = dict()\n",
    "    for k,v in dict_.items():\n",
    "        month = k.split(\"-\")[1]\n",
    "        if (month in dict_monthly): \n",
    "            dict_monthly[month] += v\n",
    "        else: dict_monthly[month] = v\n",
    "    return dict_monthly            \n",
    "print(revenue_monthly(date, summ))           \n"
   ]
  },
  {
   "cell_type": "code",
   "execution_count": null,
   "id": "d7c8ce83",
   "metadata": {},
   "outputs": [],
   "source": []
  }
 ],
 "metadata": {
  "kernelspec": {
   "display_name": "Python 3 (ipykernel)",
   "language": "python",
   "name": "python3"
  },
  "language_info": {
   "codemirror_mode": {
    "name": "ipython",
    "version": 3
   },
   "file_extension": ".py",
   "mimetype": "text/x-python",
   "name": "python",
   "nbconvert_exporter": "python",
   "pygments_lexer": "ipython3",
   "version": "3.9.13"
  }
 },
 "nbformat": 4,
 "nbformat_minor": 5
}
